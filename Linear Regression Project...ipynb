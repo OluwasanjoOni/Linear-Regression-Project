{
 "cells": [
  {
   "cell_type": "markdown",
   "id": "f3bf643b",
   "metadata": {},
   "source": [
    "#                         Linear Regression Project\n",
    "\n",
    "- Using the USA_housing.csvDownload USA_housing.csv dataset:\n",
    "\n",
    "           - build a linear regression model to predict the housing price and measure the model performances on both the \n",
    "training and test sets using R^2, RMSE, MAE, and Adjusted R^2.\n",
    "\n",
    "           - Based, on the model's results, does the model overfit or underfit? If yes, devise an approach to improve the \n",
    "model? Also, interpret the coefficients of the model\n",
    "\n",
    "Hint: \n",
    "    - Explore the data:\n",
    "    - Perform both univariate and bivariate analysis\n",
    "    - Transform skewed variables (if necessary)\n",
    "    - Normalize or standardize the data\n",
    "   - Build a linear regression model for the data\n",
    "   - Determine if we need to regularize the model using Ridge and Lasso regression."
   ]
  },
  {
   "cell_type": "code",
   "execution_count": 4,
   "id": "eb69247c",
   "metadata": {},
   "outputs": [],
   "source": [
    "# Libraries to help reading and manipulating data\n",
    "import pandas as pd\n",
    "import numpy as np\n",
    "\n",
    "# libraries to help with visualisation\n",
    "import matplotlib.pyplot as plt\n",
    "import seaborn as sns"
   ]
  },
  {
   "cell_type": "code",
   "execution_count": 58,
   "id": "72fc38c7",
   "metadata": {},
   "outputs": [
    {
     "data": {
      "text/html": [
       "<div>\n",
       "<style scoped>\n",
       "    .dataframe tbody tr th:only-of-type {\n",
       "        vertical-align: middle;\n",
       "    }\n",
       "\n",
       "    .dataframe tbody tr th {\n",
       "        vertical-align: top;\n",
       "    }\n",
       "\n",
       "    .dataframe thead th {\n",
       "        text-align: right;\n",
       "    }\n",
       "</style>\n",
       "<table border=\"1\" class=\"dataframe\">\n",
       "  <thead>\n",
       "    <tr style=\"text-align: right;\">\n",
       "      <th></th>\n",
       "      <th>Avg. Area Income</th>\n",
       "      <th>Avg. Area House Age</th>\n",
       "      <th>Avg. Area Number of Rooms</th>\n",
       "      <th>Avg. Area Number of Bedrooms</th>\n",
       "      <th>Area Population</th>\n",
       "      <th>Price</th>\n",
       "      <th>Address</th>\n",
       "    </tr>\n",
       "  </thead>\n",
       "  <tbody>\n",
       "    <tr>\n",
       "      <th>0</th>\n",
       "      <td>79545.458574</td>\n",
       "      <td>5.682861</td>\n",
       "      <td>7.009188</td>\n",
       "      <td>4.09</td>\n",
       "      <td>23086.800503</td>\n",
       "      <td>1.059034e+06</td>\n",
       "      <td>208 Michael Ferry Apt. 674\\nLaurabury, NE 3701...</td>\n",
       "    </tr>\n",
       "    <tr>\n",
       "      <th>1</th>\n",
       "      <td>79248.642455</td>\n",
       "      <td>6.002900</td>\n",
       "      <td>6.730821</td>\n",
       "      <td>3.09</td>\n",
       "      <td>40173.072174</td>\n",
       "      <td>1.505891e+06</td>\n",
       "      <td>188 Johnson Views Suite 079\\nLake Kathleen, CA...</td>\n",
       "    </tr>\n",
       "    <tr>\n",
       "      <th>2</th>\n",
       "      <td>61287.067179</td>\n",
       "      <td>5.865890</td>\n",
       "      <td>8.512727</td>\n",
       "      <td>5.13</td>\n",
       "      <td>36882.159400</td>\n",
       "      <td>1.058988e+06</td>\n",
       "      <td>9127 Elizabeth Stravenue\\nDanieltown, WI 06482...</td>\n",
       "    </tr>\n",
       "    <tr>\n",
       "      <th>3</th>\n",
       "      <td>63345.240046</td>\n",
       "      <td>7.188236</td>\n",
       "      <td>5.586729</td>\n",
       "      <td>3.26</td>\n",
       "      <td>34310.242831</td>\n",
       "      <td>1.260617e+06</td>\n",
       "      <td>USS Barnett\\nFPO AP 44820</td>\n",
       "    </tr>\n",
       "    <tr>\n",
       "      <th>4</th>\n",
       "      <td>59982.197226</td>\n",
       "      <td>5.040555</td>\n",
       "      <td>7.839388</td>\n",
       "      <td>4.23</td>\n",
       "      <td>26354.109472</td>\n",
       "      <td>6.309435e+05</td>\n",
       "      <td>USNS Raymond\\nFPO AE 09386</td>\n",
       "    </tr>\n",
       "    <tr>\n",
       "      <th>...</th>\n",
       "      <td>...</td>\n",
       "      <td>...</td>\n",
       "      <td>...</td>\n",
       "      <td>...</td>\n",
       "      <td>...</td>\n",
       "      <td>...</td>\n",
       "      <td>...</td>\n",
       "    </tr>\n",
       "    <tr>\n",
       "      <th>4995</th>\n",
       "      <td>60567.944140</td>\n",
       "      <td>7.830362</td>\n",
       "      <td>6.137356</td>\n",
       "      <td>3.46</td>\n",
       "      <td>22837.361035</td>\n",
       "      <td>1.060194e+06</td>\n",
       "      <td>USNS Williams\\nFPO AP 30153-7653</td>\n",
       "    </tr>\n",
       "    <tr>\n",
       "      <th>4996</th>\n",
       "      <td>78491.275435</td>\n",
       "      <td>6.999135</td>\n",
       "      <td>6.576763</td>\n",
       "      <td>4.02</td>\n",
       "      <td>25616.115489</td>\n",
       "      <td>1.482618e+06</td>\n",
       "      <td>PSC 9258, Box 8489\\nAPO AA 42991-3352</td>\n",
       "    </tr>\n",
       "    <tr>\n",
       "      <th>4997</th>\n",
       "      <td>63390.686886</td>\n",
       "      <td>7.250591</td>\n",
       "      <td>4.805081</td>\n",
       "      <td>2.13</td>\n",
       "      <td>33266.145490</td>\n",
       "      <td>1.030730e+06</td>\n",
       "      <td>4215 Tracy Garden Suite 076\\nJoshualand, VA 01...</td>\n",
       "    </tr>\n",
       "    <tr>\n",
       "      <th>4998</th>\n",
       "      <td>68001.331235</td>\n",
       "      <td>5.534388</td>\n",
       "      <td>7.130144</td>\n",
       "      <td>5.44</td>\n",
       "      <td>42625.620156</td>\n",
       "      <td>1.198657e+06</td>\n",
       "      <td>USS Wallace\\nFPO AE 73316</td>\n",
       "    </tr>\n",
       "    <tr>\n",
       "      <th>4999</th>\n",
       "      <td>65510.581804</td>\n",
       "      <td>5.992305</td>\n",
       "      <td>6.792336</td>\n",
       "      <td>4.07</td>\n",
       "      <td>46501.283803</td>\n",
       "      <td>1.298950e+06</td>\n",
       "      <td>37778 George Ridges Apt. 509\\nEast Holly, NV 2...</td>\n",
       "    </tr>\n",
       "  </tbody>\n",
       "</table>\n",
       "<p>5000 rows × 7 columns</p>\n",
       "</div>"
      ],
      "text/plain": [
       "      Avg. Area Income  Avg. Area House Age  Avg. Area Number of Rooms  \\\n",
       "0         79545.458574             5.682861                   7.009188   \n",
       "1         79248.642455             6.002900                   6.730821   \n",
       "2         61287.067179             5.865890                   8.512727   \n",
       "3         63345.240046             7.188236                   5.586729   \n",
       "4         59982.197226             5.040555                   7.839388   \n",
       "...                ...                  ...                        ...   \n",
       "4995      60567.944140             7.830362                   6.137356   \n",
       "4996      78491.275435             6.999135                   6.576763   \n",
       "4997      63390.686886             7.250591                   4.805081   \n",
       "4998      68001.331235             5.534388                   7.130144   \n",
       "4999      65510.581804             5.992305                   6.792336   \n",
       "\n",
       "      Avg. Area Number of Bedrooms  Area Population         Price  \\\n",
       "0                             4.09     23086.800503  1.059034e+06   \n",
       "1                             3.09     40173.072174  1.505891e+06   \n",
       "2                             5.13     36882.159400  1.058988e+06   \n",
       "3                             3.26     34310.242831  1.260617e+06   \n",
       "4                             4.23     26354.109472  6.309435e+05   \n",
       "...                            ...              ...           ...   \n",
       "4995                          3.46     22837.361035  1.060194e+06   \n",
       "4996                          4.02     25616.115489  1.482618e+06   \n",
       "4997                          2.13     33266.145490  1.030730e+06   \n",
       "4998                          5.44     42625.620156  1.198657e+06   \n",
       "4999                          4.07     46501.283803  1.298950e+06   \n",
       "\n",
       "                                                Address  \n",
       "0     208 Michael Ferry Apt. 674\\nLaurabury, NE 3701...  \n",
       "1     188 Johnson Views Suite 079\\nLake Kathleen, CA...  \n",
       "2     9127 Elizabeth Stravenue\\nDanieltown, WI 06482...  \n",
       "3                             USS Barnett\\nFPO AP 44820  \n",
       "4                            USNS Raymond\\nFPO AE 09386  \n",
       "...                                                 ...  \n",
       "4995                   USNS Williams\\nFPO AP 30153-7653  \n",
       "4996              PSC 9258, Box 8489\\nAPO AA 42991-3352  \n",
       "4997  4215 Tracy Garden Suite 076\\nJoshualand, VA 01...  \n",
       "4998                          USS Wallace\\nFPO AE 73316  \n",
       "4999  37778 George Ridges Apt. 509\\nEast Holly, NV 2...  \n",
       "\n",
       "[5000 rows x 7 columns]"
      ]
     },
     "execution_count": 58,
     "metadata": {},
     "output_type": "execute_result"
    }
   ],
   "source": [
    "USA_housing = pd.read_csv(r\"C:\\Users\\Admin\\Desktop\\USA_Housing.csv\")           # To load the data\n",
    "USA_housing"
   ]
  },
  {
   "cell_type": "code",
   "execution_count": 59,
   "id": "9d9e16fb",
   "metadata": {
    "scrolled": true
   },
   "outputs": [
    {
     "data": {
      "text/html": [
       "<div>\n",
       "<style scoped>\n",
       "    .dataframe tbody tr th:only-of-type {\n",
       "        vertical-align: middle;\n",
       "    }\n",
       "\n",
       "    .dataframe tbody tr th {\n",
       "        vertical-align: top;\n",
       "    }\n",
       "\n",
       "    .dataframe thead th {\n",
       "        text-align: right;\n",
       "    }\n",
       "</style>\n",
       "<table border=\"1\" class=\"dataframe\">\n",
       "  <thead>\n",
       "    <tr style=\"text-align: right;\">\n",
       "      <th></th>\n",
       "      <th>Avg. Area Income</th>\n",
       "      <th>Avg. Area House Age</th>\n",
       "      <th>Avg. Area Number of Rooms</th>\n",
       "      <th>Avg. Area Number of Bedrooms</th>\n",
       "      <th>Area Population</th>\n",
       "      <th>Price</th>\n",
       "      <th>Address</th>\n",
       "    </tr>\n",
       "  </thead>\n",
       "  <tbody>\n",
       "    <tr>\n",
       "      <th>0</th>\n",
       "      <td>79545.458574</td>\n",
       "      <td>5.682861</td>\n",
       "      <td>7.009188</td>\n",
       "      <td>4.09</td>\n",
       "      <td>23086.800503</td>\n",
       "      <td>1.059034e+06</td>\n",
       "      <td>208 Michael Ferry Apt. 674\\nLaurabury, NE 3701...</td>\n",
       "    </tr>\n",
       "    <tr>\n",
       "      <th>1</th>\n",
       "      <td>79248.642455</td>\n",
       "      <td>6.002900</td>\n",
       "      <td>6.730821</td>\n",
       "      <td>3.09</td>\n",
       "      <td>40173.072174</td>\n",
       "      <td>1.505891e+06</td>\n",
       "      <td>188 Johnson Views Suite 079\\nLake Kathleen, CA...</td>\n",
       "    </tr>\n",
       "    <tr>\n",
       "      <th>2</th>\n",
       "      <td>61287.067179</td>\n",
       "      <td>5.865890</td>\n",
       "      <td>8.512727</td>\n",
       "      <td>5.13</td>\n",
       "      <td>36882.159400</td>\n",
       "      <td>1.058988e+06</td>\n",
       "      <td>9127 Elizabeth Stravenue\\nDanieltown, WI 06482...</td>\n",
       "    </tr>\n",
       "    <tr>\n",
       "      <th>3</th>\n",
       "      <td>63345.240046</td>\n",
       "      <td>7.188236</td>\n",
       "      <td>5.586729</td>\n",
       "      <td>3.26</td>\n",
       "      <td>34310.242831</td>\n",
       "      <td>1.260617e+06</td>\n",
       "      <td>USS Barnett\\nFPO AP 44820</td>\n",
       "    </tr>\n",
       "    <tr>\n",
       "      <th>4</th>\n",
       "      <td>59982.197226</td>\n",
       "      <td>5.040555</td>\n",
       "      <td>7.839388</td>\n",
       "      <td>4.23</td>\n",
       "      <td>26354.109472</td>\n",
       "      <td>6.309435e+05</td>\n",
       "      <td>USNS Raymond\\nFPO AE 09386</td>\n",
       "    </tr>\n",
       "  </tbody>\n",
       "</table>\n",
       "</div>"
      ],
      "text/plain": [
       "   Avg. Area Income  Avg. Area House Age  Avg. Area Number of Rooms  \\\n",
       "0      79545.458574             5.682861                   7.009188   \n",
       "1      79248.642455             6.002900                   6.730821   \n",
       "2      61287.067179             5.865890                   8.512727   \n",
       "3      63345.240046             7.188236                   5.586729   \n",
       "4      59982.197226             5.040555                   7.839388   \n",
       "\n",
       "   Avg. Area Number of Bedrooms  Area Population         Price  \\\n",
       "0                          4.09     23086.800503  1.059034e+06   \n",
       "1                          3.09     40173.072174  1.505891e+06   \n",
       "2                          5.13     36882.159400  1.058988e+06   \n",
       "3                          3.26     34310.242831  1.260617e+06   \n",
       "4                          4.23     26354.109472  6.309435e+05   \n",
       "\n",
       "                                             Address  \n",
       "0  208 Michael Ferry Apt. 674\\nLaurabury, NE 3701...  \n",
       "1  188 Johnson Views Suite 079\\nLake Kathleen, CA...  \n",
       "2  9127 Elizabeth Stravenue\\nDanieltown, WI 06482...  \n",
       "3                          USS Barnett\\nFPO AP 44820  \n",
       "4                         USNS Raymond\\nFPO AE 09386  "
      ]
     },
     "execution_count": 59,
     "metadata": {},
     "output_type": "execute_result"
    }
   ],
   "source": [
    "USA_housing.head()                    # To check the first 5 rows in the dataset"
   ]
  },
  {
   "cell_type": "code",
   "execution_count": 60,
   "id": "995ab959",
   "metadata": {},
   "outputs": [
    {
     "data": {
      "text/html": [
       "<div>\n",
       "<style scoped>\n",
       "    .dataframe tbody tr th:only-of-type {\n",
       "        vertical-align: middle;\n",
       "    }\n",
       "\n",
       "    .dataframe tbody tr th {\n",
       "        vertical-align: top;\n",
       "    }\n",
       "\n",
       "    .dataframe thead th {\n",
       "        text-align: right;\n",
       "    }\n",
       "</style>\n",
       "<table border=\"1\" class=\"dataframe\">\n",
       "  <thead>\n",
       "    <tr style=\"text-align: right;\">\n",
       "      <th></th>\n",
       "      <th>Avg. Area Income</th>\n",
       "      <th>Avg. Area House Age</th>\n",
       "      <th>Avg. Area Number of Rooms</th>\n",
       "      <th>Avg. Area Number of Bedrooms</th>\n",
       "      <th>Area Population</th>\n",
       "      <th>Price</th>\n",
       "      <th>Address</th>\n",
       "    </tr>\n",
       "  </thead>\n",
       "  <tbody>\n",
       "    <tr>\n",
       "      <th>2764</th>\n",
       "      <td>75012.341660</td>\n",
       "      <td>6.742828</td>\n",
       "      <td>6.604335</td>\n",
       "      <td>4.10</td>\n",
       "      <td>42877.424147</td>\n",
       "      <td>1.413580e+06</td>\n",
       "      <td>6218 Parker Crescent\\nSouth Kristaside, CA 14710</td>\n",
       "    </tr>\n",
       "    <tr>\n",
       "      <th>4767</th>\n",
       "      <td>76187.273309</td>\n",
       "      <td>6.156222</td>\n",
       "      <td>7.166149</td>\n",
       "      <td>3.32</td>\n",
       "      <td>45084.394236</td>\n",
       "      <td>1.618721e+06</td>\n",
       "      <td>207 Dillon Knolls\\nPort Jesseburgh, FM 27308</td>\n",
       "    </tr>\n",
       "    <tr>\n",
       "      <th>3814</th>\n",
       "      <td>67622.219611</td>\n",
       "      <td>5.813928</td>\n",
       "      <td>5.071112</td>\n",
       "      <td>4.16</td>\n",
       "      <td>35359.848465</td>\n",
       "      <td>8.413925e+05</td>\n",
       "      <td>USCGC Joseph\\nFPO AA 84443</td>\n",
       "    </tr>\n",
       "    <tr>\n",
       "      <th>3499</th>\n",
       "      <td>66933.165273</td>\n",
       "      <td>4.748787</td>\n",
       "      <td>5.879803</td>\n",
       "      <td>2.09</td>\n",
       "      <td>41834.042941</td>\n",
       "      <td>8.814439e+05</td>\n",
       "      <td>7485 Hurley Lights\\nEast Brian, CA 67661</td>\n",
       "    </tr>\n",
       "    <tr>\n",
       "      <th>2735</th>\n",
       "      <td>65192.105635</td>\n",
       "      <td>6.275509</td>\n",
       "      <td>8.017889</td>\n",
       "      <td>4.47</td>\n",
       "      <td>26228.394577</td>\n",
       "      <td>1.174748e+06</td>\n",
       "      <td>2223 Andrew Branch Suite 214\\nNew Willie, UT 9...</td>\n",
       "    </tr>\n",
       "    <tr>\n",
       "      <th>3922</th>\n",
       "      <td>53562.403541</td>\n",
       "      <td>6.323328</td>\n",
       "      <td>4.027931</td>\n",
       "      <td>3.13</td>\n",
       "      <td>17964.469901</td>\n",
       "      <td>2.662989e+05</td>\n",
       "      <td>441 Ryan Courts Suite 717\\nGonzalesport, NV 30350</td>\n",
       "    </tr>\n",
       "    <tr>\n",
       "      <th>2701</th>\n",
       "      <td>84226.166410</td>\n",
       "      <td>7.981054</td>\n",
       "      <td>7.934351</td>\n",
       "      <td>5.01</td>\n",
       "      <td>30167.233427</td>\n",
       "      <td>1.877942e+06</td>\n",
       "      <td>725 Wood Flats\\nLake Josephtown, MO 38832-8878</td>\n",
       "    </tr>\n",
       "    <tr>\n",
       "      <th>1179</th>\n",
       "      <td>69289.180684</td>\n",
       "      <td>4.931634</td>\n",
       "      <td>6.364757</td>\n",
       "      <td>4.44</td>\n",
       "      <td>40695.797856</td>\n",
       "      <td>1.022409e+06</td>\n",
       "      <td>16295 Wood Motorway Apt. 541\\nSandraview, IA 9...</td>\n",
       "    </tr>\n",
       "    <tr>\n",
       "      <th>932</th>\n",
       "      <td>70961.581312</td>\n",
       "      <td>8.598383</td>\n",
       "      <td>6.185951</td>\n",
       "      <td>2.02</td>\n",
       "      <td>38251.812169</td>\n",
       "      <td>1.766248e+06</td>\n",
       "      <td>8749 Matthew Row\\nEast Markport, IN 41253</td>\n",
       "    </tr>\n",
       "    <tr>\n",
       "      <th>792</th>\n",
       "      <td>64290.205706</td>\n",
       "      <td>3.648546</td>\n",
       "      <td>7.368073</td>\n",
       "      <td>3.44</td>\n",
       "      <td>54157.295164</td>\n",
       "      <td>9.490722e+05</td>\n",
       "      <td>519 Avila Road\\nJamesbury, SC 76217-0455</td>\n",
       "    </tr>\n",
       "  </tbody>\n",
       "</table>\n",
       "</div>"
      ],
      "text/plain": [
       "      Avg. Area Income  Avg. Area House Age  Avg. Area Number of Rooms  \\\n",
       "2764      75012.341660             6.742828                   6.604335   \n",
       "4767      76187.273309             6.156222                   7.166149   \n",
       "3814      67622.219611             5.813928                   5.071112   \n",
       "3499      66933.165273             4.748787                   5.879803   \n",
       "2735      65192.105635             6.275509                   8.017889   \n",
       "3922      53562.403541             6.323328                   4.027931   \n",
       "2701      84226.166410             7.981054                   7.934351   \n",
       "1179      69289.180684             4.931634                   6.364757   \n",
       "932       70961.581312             8.598383                   6.185951   \n",
       "792       64290.205706             3.648546                   7.368073   \n",
       "\n",
       "      Avg. Area Number of Bedrooms  Area Population         Price  \\\n",
       "2764                          4.10     42877.424147  1.413580e+06   \n",
       "4767                          3.32     45084.394236  1.618721e+06   \n",
       "3814                          4.16     35359.848465  8.413925e+05   \n",
       "3499                          2.09     41834.042941  8.814439e+05   \n",
       "2735                          4.47     26228.394577  1.174748e+06   \n",
       "3922                          3.13     17964.469901  2.662989e+05   \n",
       "2701                          5.01     30167.233427  1.877942e+06   \n",
       "1179                          4.44     40695.797856  1.022409e+06   \n",
       "932                           2.02     38251.812169  1.766248e+06   \n",
       "792                           3.44     54157.295164  9.490722e+05   \n",
       "\n",
       "                                                Address  \n",
       "2764   6218 Parker Crescent\\nSouth Kristaside, CA 14710  \n",
       "4767       207 Dillon Knolls\\nPort Jesseburgh, FM 27308  \n",
       "3814                         USCGC Joseph\\nFPO AA 84443  \n",
       "3499           7485 Hurley Lights\\nEast Brian, CA 67661  \n",
       "2735  2223 Andrew Branch Suite 214\\nNew Willie, UT 9...  \n",
       "3922  441 Ryan Courts Suite 717\\nGonzalesport, NV 30350  \n",
       "2701     725 Wood Flats\\nLake Josephtown, MO 38832-8878  \n",
       "1179  16295 Wood Motorway Apt. 541\\nSandraview, IA 9...  \n",
       "932           8749 Matthew Row\\nEast Markport, IN 41253  \n",
       "792            519 Avila Road\\nJamesbury, SC 76217-0455  "
      ]
     },
     "execution_count": 60,
     "metadata": {},
     "output_type": "execute_result"
    }
   ],
   "source": [
    "USA_housing.sample(10, random_state = 1)   # To ramdomly check the any ten rows in the dataset"
   ]
  },
  {
   "cell_type": "code",
   "execution_count": 61,
   "id": "445c2066",
   "metadata": {},
   "outputs": [
    {
     "data": {
      "text/plain": [
       "(5000, 7)"
      ]
     },
     "execution_count": 61,
     "metadata": {},
     "output_type": "execute_result"
    }
   ],
   "source": [
    "USA_housing.shape                # To find the dimension of the data"
   ]
  },
  {
   "cell_type": "markdown",
   "id": "08aa628f",
   "metadata": {},
   "source": [
    "- There are 5000 rows and 7 columns"
   ]
  },
  {
   "cell_type": "code",
   "execution_count": 62,
   "id": "088a60f0",
   "metadata": {},
   "outputs": [
    {
     "name": "stdout",
     "output_type": "stream",
     "text": [
      "<class 'pandas.core.frame.DataFrame'>\n",
      "RangeIndex: 5000 entries, 0 to 4999\n",
      "Data columns (total 7 columns):\n",
      " #   Column                        Non-Null Count  Dtype  \n",
      "---  ------                        --------------  -----  \n",
      " 0   Avg. Area Income              5000 non-null   float64\n",
      " 1   Avg. Area House Age           5000 non-null   float64\n",
      " 2   Avg. Area Number of Rooms     5000 non-null   float64\n",
      " 3   Avg. Area Number of Bedrooms  5000 non-null   float64\n",
      " 4   Area Population               5000 non-null   float64\n",
      " 5   Price                         5000 non-null   float64\n",
      " 6   Address                       5000 non-null   object \n",
      "dtypes: float64(6), object(1)\n",
      "memory usage: 273.6+ KB\n"
     ]
    }
   ],
   "source": [
    "USA_housing.info()                  # checking the data types "
   ]
  },
  {
   "cell_type": "markdown",
   "id": "1b277750",
   "metadata": {},
   "source": [
    "**Observation**\n",
    "- There are two data types in the dataset; object (caterigorical variable) and floats (numerical variables)\n",
    "- Address column is the only caterigorical variable\n",
    "- Other columns are numeric\n",
    "- There are 5000 rows and 7 columns\n",
    "- The dataset occupies memory size of 274KB\n",
    "- There is no missing values in the dataset\n"
   ]
  },
  {
   "cell_type": "code",
   "execution_count": 10,
   "id": "4f5a0708",
   "metadata": {},
   "outputs": [
    {
     "data": {
      "text/plain": [
       "0"
      ]
     },
     "execution_count": 10,
     "metadata": {},
     "output_type": "execute_result"
    }
   ],
   "source": [
    "USA_housing.duplicated().sum()   # To check for duplication"
   ]
  },
  {
   "cell_type": "markdown",
   "id": "747b6a60",
   "metadata": {},
   "source": [
    "- There is no duplication in the dataset"
   ]
  },
  {
   "cell_type": "code",
   "execution_count": 63,
   "id": "ee923f1e",
   "metadata": {},
   "outputs": [
    {
     "data": {
      "text/html": [
       "<div>\n",
       "<style scoped>\n",
       "    .dataframe tbody tr th:only-of-type {\n",
       "        vertical-align: middle;\n",
       "    }\n",
       "\n",
       "    .dataframe tbody tr th {\n",
       "        vertical-align: top;\n",
       "    }\n",
       "\n",
       "    .dataframe thead th {\n",
       "        text-align: right;\n",
       "    }\n",
       "</style>\n",
       "<table border=\"1\" class=\"dataframe\">\n",
       "  <thead>\n",
       "    <tr style=\"text-align: right;\">\n",
       "      <th></th>\n",
       "      <th>Avg. Area Income</th>\n",
       "      <th>Avg. Area House Age</th>\n",
       "      <th>Avg. Area Number of Rooms</th>\n",
       "      <th>Avg. Area Number of Bedrooms</th>\n",
       "      <th>Area Population</th>\n",
       "      <th>Price</th>\n",
       "    </tr>\n",
       "  </thead>\n",
       "  <tbody>\n",
       "    <tr>\n",
       "      <th>count</th>\n",
       "      <td>5000.000000</td>\n",
       "      <td>5000.000000</td>\n",
       "      <td>5000.000000</td>\n",
       "      <td>5000.000000</td>\n",
       "      <td>5000.000000</td>\n",
       "      <td>5.000000e+03</td>\n",
       "    </tr>\n",
       "    <tr>\n",
       "      <th>mean</th>\n",
       "      <td>68583.108984</td>\n",
       "      <td>5.977222</td>\n",
       "      <td>6.987792</td>\n",
       "      <td>3.981330</td>\n",
       "      <td>36163.516039</td>\n",
       "      <td>1.232073e+06</td>\n",
       "    </tr>\n",
       "    <tr>\n",
       "      <th>std</th>\n",
       "      <td>10657.991214</td>\n",
       "      <td>0.991456</td>\n",
       "      <td>1.005833</td>\n",
       "      <td>1.234137</td>\n",
       "      <td>9925.650114</td>\n",
       "      <td>3.531176e+05</td>\n",
       "    </tr>\n",
       "    <tr>\n",
       "      <th>min</th>\n",
       "      <td>17796.631190</td>\n",
       "      <td>2.644304</td>\n",
       "      <td>3.236194</td>\n",
       "      <td>2.000000</td>\n",
       "      <td>172.610686</td>\n",
       "      <td>1.593866e+04</td>\n",
       "    </tr>\n",
       "    <tr>\n",
       "      <th>25%</th>\n",
       "      <td>61480.562388</td>\n",
       "      <td>5.322283</td>\n",
       "      <td>6.299250</td>\n",
       "      <td>3.140000</td>\n",
       "      <td>29403.928702</td>\n",
       "      <td>9.975771e+05</td>\n",
       "    </tr>\n",
       "    <tr>\n",
       "      <th>50%</th>\n",
       "      <td>68804.286404</td>\n",
       "      <td>5.970429</td>\n",
       "      <td>7.002902</td>\n",
       "      <td>4.050000</td>\n",
       "      <td>36199.406689</td>\n",
       "      <td>1.232669e+06</td>\n",
       "    </tr>\n",
       "    <tr>\n",
       "      <th>75%</th>\n",
       "      <td>75783.338666</td>\n",
       "      <td>6.650808</td>\n",
       "      <td>7.665871</td>\n",
       "      <td>4.490000</td>\n",
       "      <td>42861.290769</td>\n",
       "      <td>1.471210e+06</td>\n",
       "    </tr>\n",
       "    <tr>\n",
       "      <th>max</th>\n",
       "      <td>107701.748378</td>\n",
       "      <td>9.519088</td>\n",
       "      <td>10.759588</td>\n",
       "      <td>6.500000</td>\n",
       "      <td>69621.713378</td>\n",
       "      <td>2.469066e+06</td>\n",
       "    </tr>\n",
       "  </tbody>\n",
       "</table>\n",
       "</div>"
      ],
      "text/plain": [
       "       Avg. Area Income  Avg. Area House Age  Avg. Area Number of Rooms  \\\n",
       "count       5000.000000          5000.000000                5000.000000   \n",
       "mean       68583.108984             5.977222                   6.987792   \n",
       "std        10657.991214             0.991456                   1.005833   \n",
       "min        17796.631190             2.644304                   3.236194   \n",
       "25%        61480.562388             5.322283                   6.299250   \n",
       "50%        68804.286404             5.970429                   7.002902   \n",
       "75%        75783.338666             6.650808                   7.665871   \n",
       "max       107701.748378             9.519088                  10.759588   \n",
       "\n",
       "       Avg. Area Number of Bedrooms  Area Population         Price  \n",
       "count                   5000.000000      5000.000000  5.000000e+03  \n",
       "mean                       3.981330     36163.516039  1.232073e+06  \n",
       "std                        1.234137      9925.650114  3.531176e+05  \n",
       "min                        2.000000       172.610686  1.593866e+04  \n",
       "25%                        3.140000     29403.928702  9.975771e+05  \n",
       "50%                        4.050000     36199.406689  1.232669e+06  \n",
       "75%                        4.490000     42861.290769  1.471210e+06  \n",
       "max                        6.500000     69621.713378  2.469066e+06  "
      ]
     },
     "execution_count": 63,
     "metadata": {},
     "output_type": "execute_result"
    }
   ],
   "source": [
    "USA_housing.describe()         # The descriptive statistics of the dataset"
   ]
  },
  {
   "cell_type": "markdown",
   "id": "1022e37b",
   "metadata": {},
   "source": [
    "**Observation**\n",
    "- The highest price in the dataset is 2.5*10^6 while the lowest price is 1.6*10^4\n",
    "- The average area number of rooms has the highest number of 11 while the lowest is 2\n",
    "- The highest average area number of bedrooms is 6.5 while the minimum is 2\n",
    "- The highest population is 69622 and the least is 173\n",
    "- The highest avearge area income is 107702 and the least is 17797\n",
    "- The highest avearge area house age is 9.5 and the minimum is 2.6\n",
    "- The average mean and median for; 1. the avearge area income are 68583 and 68804, 2. average area number house are 6 and 6\n",
    "3. average area number of rooms are 7 and 7, 4. average area number of bedrooms are 4 and 4, 5. area population are 36164 and \n",
    "36199, 6. Price are 1.2*10^6 and 1.2*10^6\n",
    "- 75% percentile which means 75% of the; 1. area population is 42861, 2. Price is 1.5*10^6, 3. average area income is 75783\n",
    "4. average area house age is 6.7, 5. avearge area number of rooms is 7.7, 6. average area number of bedrooms is 4.5.\n",
    "- 25% lower quartile which means 25% of the; 1. area population is 29404, 2. Price is 1.0*10^6, 3. average area income is 61481\n",
    "4. average area house age is 5.3, 5. avearge area number of rooms is 6.3, 6. average area number of bedrooms is 3.1."
   ]
  },
  {
   "cell_type": "code",
   "execution_count": 64,
   "id": "9fd07e19",
   "metadata": {},
   "outputs": [
    {
     "data": {
      "text/plain": [
       "Avg. Area Income                0\n",
       "Avg. Area House Age             0\n",
       "Avg. Area Number of Rooms       0\n",
       "Avg. Area Number of Bedrooms    0\n",
       "Area Population                 0\n",
       "Price                           0\n",
       "Address                         0\n",
       "dtype: int64"
      ]
     },
     "execution_count": 64,
     "metadata": {},
     "output_type": "execute_result"
    }
   ],
   "source": [
    "USA_housing.isna().sum()     # To check the missing values in the data"
   ]
  },
  {
   "cell_type": "markdown",
   "id": "bd27d25d",
   "metadata": {},
   "source": [
    "- There is no missing values in the dataset"
   ]
  },
  {
   "cell_type": "code",
   "execution_count": 65,
   "id": "f5ed6b3e",
   "metadata": {},
   "outputs": [
    {
     "data": {
      "text/plain": [
       "Index(['Avg. Area Income', 'Avg. Area House Age', 'Avg. Area Number of Rooms',\n",
       "       'Avg. Area Number of Bedrooms', 'Area Population', 'Price', 'Address'],\n",
       "      dtype='object')"
      ]
     },
     "execution_count": 65,
     "metadata": {},
     "output_type": "execute_result"
    }
   ],
   "source": [
    "USA_housing.columns         # To check the columns in the dataset"
   ]
  },
  {
   "cell_type": "markdown",
   "id": "f40e1f6f",
   "metadata": {},
   "source": [
    "- There are 7 columns in the dataset"
   ]
  },
  {
   "cell_type": "code",
   "execution_count": 66,
   "id": "bc92c8b9",
   "metadata": {},
   "outputs": [
    {
     "data": {
      "text/plain": [
       "array(['208 Michael Ferry Apt. 674\\nLaurabury, NE 37010-5101',\n",
       "       '188 Johnson Views Suite 079\\nLake Kathleen, CA 48958',\n",
       "       '9127 Elizabeth Stravenue\\nDanieltown, WI 06482-3489', ...,\n",
       "       '4215 Tracy Garden Suite 076\\nJoshualand, VA 01707-9165',\n",
       "       'USS Wallace\\nFPO AE 73316',\n",
       "       '37778 George Ridges Apt. 509\\nEast Holly, NV 29290-3595'],\n",
       "      dtype=object)"
      ]
     },
     "execution_count": 66,
     "metadata": {},
     "output_type": "execute_result"
    }
   ],
   "source": [
    "USA_housing[\"Address\"].unique()    # To check the unique values of the \"Address\" column"
   ]
  },
  {
   "cell_type": "code",
   "execution_count": 67,
   "id": "95a2cdb6",
   "metadata": {},
   "outputs": [],
   "source": [
    "housing = USA_housing.copy()  # To create a copy of the data"
   ]
  },
  {
   "cell_type": "code",
   "execution_count": 68,
   "id": "fc9e2041",
   "metadata": {},
   "outputs": [],
   "source": [
    "# To drop the \"Address\" column as it does not add value to the analysis\n",
    "\n",
    "housing.drop('Address', axis = 1, inplace = True)\n"
   ]
  },
  {
   "cell_type": "code",
   "execution_count": 69,
   "id": "38a34327",
   "metadata": {},
   "outputs": [
    {
     "data": {
      "text/plain": [
       "(5000, 6)"
      ]
     },
     "execution_count": 69,
     "metadata": {},
     "output_type": "execute_result"
    }
   ],
   "source": [
    "housing.shape   # To check the dimension after dropping the \"address\" column"
   ]
  },
  {
   "cell_type": "markdown",
   "id": "02f10c9b",
   "metadata": {},
   "source": [
    "#                                       Univariate Plots"
   ]
  },
  {
   "cell_type": "code",
   "execution_count": 49,
   "id": "4d77183b",
   "metadata": {},
   "outputs": [],
   "source": [
    "def get_boxplot(x, figsize = (10, 7), y = \"frequency\"):\n",
    "    plt.figure(figsize = (12,7))\n",
    "    sns.boxplot(data = housing, x = x);               # To define a function for boxplot"
   ]
  },
  {
   "cell_type": "code",
   "execution_count": 168,
   "id": "b6a38266",
   "metadata": {},
   "outputs": [
    {
     "data": {
      "image/png": "[encoded data removed]",
      "text/plain": [
       "<Figure size 864x504 with 1 Axes>"
      ]
     },
     "metadata": {
      "needs_background": "light"
     },
     "output_type": "display_data"
    }
   ],
   "source": [
    "# To use the defined function for boxplot of the \"average area income\"\n",
    "get_boxplot(x = \"Avg. Area Income\")\n",
    "plt.title(\"Boxplot of the Avg. Area Income\")\n",
    "plt.xlabel(\"Avg. Area Income\")\n",
    "plt.ylabel(\"Frequency\");      "
   ]
  },
  {
   "cell_type": "markdown",
   "id": "f3f524da",
   "metadata": {},
   "source": [
    "**Observation**\n",
    "- The distribution is skewed to both right and left hands as there are upper and lower outliers. The upper outliers are the very high average area income and the lower outliers are the ones with very low average area income. \n",
    "- the average mean and the median are 68583 and 68804, hence the distribution is normal\n",
    "- The maximum average area income is 107702 while the least is 17796\n",
    "- The 75% percentile which represents the 75% of the average area income is 75783 or less.\n",
    "- The 25% lower quartile which represents the 25% of the average area income is 68583 or less.\n",
    "- The lower wshisker is 40,000 while the upper whisker is close to 100,000"
   ]
  },
  {
   "cell_type": "code",
   "execution_count": 51,
   "id": "83757fc8",
   "metadata": {},
   "outputs": [
    {
     "data": {
      "text/plain": [
       "count      5000.000000\n",
       "mean      68583.108984\n",
       "std       10657.991214\n",
       "min       17796.631190\n",
       "25%       61480.562388\n",
       "50%       68804.286404\n",
       "75%       75783.338666\n",
       "max      107701.748378\n",
       "Name: Avg. Area Income, dtype: float64"
      ]
     },
     "execution_count": 51,
     "metadata": {},
     "output_type": "execute_result"
    }
   ],
   "source": [
    "housing[\"Avg. Area Income\"].describe()   # To show descriptive statistics of the average area income"
   ]
  },
  {
   "cell_type": "code",
   "execution_count": 169,
   "id": "d1fb5e22",
   "metadata": {},
   "outputs": [
    {
     "data": {
      "text/plain": [
       "count    5000.000000\n",
       "mean       11.123183\n",
       "std         0.161333\n",
       "min         9.786764\n",
       "25%        11.026476\n",
       "50%        11.139021\n",
       "75%        11.235634\n",
       "max        11.587121\n",
       "Name: Avg. Area Income, dtype: float64"
      ]
     },
     "execution_count": 169,
     "metadata": {},
     "output_type": "execute_result"
    }
   ],
   "source": [
    "housing[\"Avg. Area Income\"] = np.log(housing[\"Avg. Area Income\"]) \n",
    "housing[\"Avg. Area Income\"].describe()  # To correct the right skewed distribution using log scale"
   ]
  },
  {
   "cell_type": "code",
   "execution_count": 172,
   "id": "b7753402",
   "metadata": {},
   "outputs": [
    {
     "data": {
      "image/png": "[encoded data removed]",
      "text/plain": [
       "<Figure size 864x504 with 1 Axes>"
      ]
     },
     "metadata": {
      "needs_background": "light"
     },
     "output_type": "display_data"
    }
   ],
   "source": [
    "get_boxplot(x = \"Avg. Area Income\")\n",
    "plt.title(\"Boxplot of the corrected right hand skewed of Avg. Area Income\")\n",
    "plt.xlabel(\"Avg. Area Income\")\n",
    "plt.ylabel(\"Frequency\");   # used the defined function for boxplot of this corrected variable  "
   ]
  },
  {
   "cell_type": "markdown",
   "id": "38dc7621",
   "metadata": {},
   "source": [
    " **Boxplot of the corrected right-hand skewed \"Average Area Income\"**\n",
    "\n",
    "**Observation**\n",
    "- The avearge mean and the median are the same - a perfect normal distribution\n",
    "- The outliers (skewedness) in the right hand has been corrected except few. This few are the ones with very high average area income\n",
    "- The least avearge area income and the maximum average area income are very close\n",
    "- The distribution is skewed to the left hand as there are many lower outliers. This implies some average area income are too low.\n",
    "\n"
   ]
  },
  {
   "cell_type": "code",
   "execution_count": 59,
   "id": "97afece9",
   "metadata": {},
   "outputs": [
    {
     "data": {
      "image/png": "[encoded data removed]",
      "text/plain": [
       "<Figure size 864x504 with 1 Axes>"
      ]
     },
     "metadata": {
      "needs_background": "light"
     },
     "output_type": "display_data"
    }
   ],
   "source": [
    "get_boxplot(x = \"Avg. Area House Age\");   # Boxplot of this variable using the defined function\n",
    "plt.title(\"Boxplot of the Avg. Area House Age\")\n",
    "plt.xlabel(\"Avg. Area House Age\")\n",
    "plt.ylabel(\"Frequency\");"
   ]
  },
  {
   "cell_type": "markdown",
   "id": "77fd27d8",
   "metadata": {},
   "source": [
    "**Observation**\n",
    "- The distribution is skewed to both right and left hands. This means a few of the average area house age values are too high and are the upper outliers. The extreme low average area house age at the lower outliers.\n",
    "- The average mean and the median are 6 and 6. This is a perfect normal distribution.\n",
    "- The maximum average area house age is 9.5 while the least is 2.6\n",
    "- The 75% percentile which represents the 75% of the average area house age is 6.7 or less.\n",
    "- The 25% lower quartile which represents the 25% of the average area house age is 5.3 or less.\n",
    "- The lower wshisker is above 3 while the upper whisker is close to 9"
   ]
  },
  {
   "cell_type": "code",
   "execution_count": 29,
   "id": "a1fe8833",
   "metadata": {},
   "outputs": [
    {
     "data": {
      "text/plain": [
       "count    5000.000000\n",
       "mean        5.977222\n",
       "std         0.991456\n",
       "min         2.644304\n",
       "25%         5.322283\n",
       "50%         5.970429\n",
       "75%         6.650808\n",
       "max         9.519088\n",
       "Name: Avg. Area House Age, dtype: float64"
      ]
     },
     "execution_count": 29,
     "metadata": {},
     "output_type": "execute_result"
    }
   ],
   "source": [
    "housing[\"Avg. Area House Age\"].describe()  # The descriptive statistics of the average area house age"
   ]
  },
  {
   "cell_type": "code",
   "execution_count": 63,
   "id": "621acf8a",
   "metadata": {},
   "outputs": [
    {
     "data": {
      "text/plain": [
       "count    5000.000000\n",
       "mean        1.773582\n",
       "std         0.172126\n",
       "min         0.972408\n",
       "25%         1.671902\n",
       "50%         1.786819\n",
       "75%         1.894738\n",
       "max         2.253299\n",
       "Name: Avg. Area House Age, dtype: float64"
      ]
     },
     "execution_count": 63,
     "metadata": {},
     "output_type": "execute_result"
    }
   ],
   "source": [
    "housing[\"Avg. Area House Age\"] = np.log(housing[\"Avg. Area House Age\"])  \n",
    "housing[\"Avg. Area House Age\"].describe()  # Descriptive statistics after applying log scale "
   ]
  },
  {
   "cell_type": "code",
   "execution_count": 64,
   "id": "7a2f9a84",
   "metadata": {},
   "outputs": [
    {
     "data": {
      "image/png": "[encoded data removed]",
      "text/plain": [
       "<Figure size 864x504 with 1 Axes>"
      ]
     },
     "metadata": {
      "needs_background": "light"
     },
     "output_type": "display_data"
    }
   ],
   "source": [
    "get_boxplot(x = \"Avg. Area House Age\") # Plot after the right skewed correction using the function\n",
    "plt.title(\"Boxplot of the Avg. Area House Age\")\n",
    "plt.xlabel(\"Avg. Area House Age\")\n",
    "plt.ylabel(\"Frequency\");"
   ]
  },
  {
   "cell_type": "markdown",
   "id": "db9d02a4",
   "metadata": {},
   "source": [
    "**Boxplot of the corrected right-hand skewed \"Average Area House Age\"**\n",
    "\n",
    "**Observation**\n",
    "- The outliers (skewedness) in the right hand has been corrected except few\n",
    "- The distribution is skewed to the left hand as there are some average area house age values that are too low\n"
   ]
  },
  {
   "cell_type": "code",
   "execution_count": 37,
   "id": "201d2ec0",
   "metadata": {},
   "outputs": [
    {
     "data": {
      "text/plain": [
       "count    5000.000000\n",
       "mean        6.987792\n",
       "std         1.005833\n",
       "min         3.236194\n",
       "25%         6.299250\n",
       "50%         7.002902\n",
       "75%         7.665871\n",
       "max        10.759588\n",
       "Name: Avg. Area Number of Rooms, dtype: float64"
      ]
     },
     "execution_count": 37,
     "metadata": {},
     "output_type": "execute_result"
    }
   ],
   "source": [
    "housing[\"Avg. Area Number of Rooms\"].describe() # To check descriptive statistics of the variable"
   ]
  },
  {
   "cell_type": "code",
   "execution_count": 183,
   "id": "753c876c",
   "metadata": {},
   "outputs": [
    {
     "data": {
      "image/png": "[encoded data removed]",
      "text/plain": [
       "<Figure size 864x504 with 1 Axes>"
      ]
     },
     "metadata": {
      "needs_background": "light"
     },
     "output_type": "display_data"
    }
   ],
   "source": [
    "get_boxplot(x = \"Avg. Area Number of Rooms\")      \n",
    "plt.title(\"Boxplot of the Avg. Area Number of Rooms\")\n",
    "plt.xlabel(\"Avg. Area Number of Rooms\")\n",
    "plt.ylabel(\"Frequency\"); # Plot of the \"Average Area Number of Rooms\" variable using the function"
   ]
  },
  {
   "cell_type": "markdown",
   "id": "c35e136a",
   "metadata": {},
   "source": [
    "**Observation**\n",
    "- The distribution is skewed to both right and left hands. This means a few of the average area number of rooms are too high above the upper whisker. The extreme low average number of rooms are the lower outliers.\n",
    "- The average mean and the median are the same, hence the distribution is perfectly normal.\n",
    "- The maximum average area number of rooms is 10.8 and the least is 3."
   ]
  },
  {
   "cell_type": "code",
   "execution_count": 66,
   "id": "5fb094a3",
   "metadata": {},
   "outputs": [
    {
     "data": {
      "text/plain": [
       "count    5000.000000\n",
       "mean        1.933427\n",
       "std         0.148306\n",
       "min         1.174398\n",
       "25%         1.840431\n",
       "50%         1.946325\n",
       "75%         2.036778\n",
       "max         2.375797\n",
       "Name: Avg. Area Number of Rooms, dtype: float64"
      ]
     },
     "execution_count": 66,
     "metadata": {},
     "output_type": "execute_result"
    }
   ],
   "source": [
    "housing[\"Avg. Area Number of Rooms\"] = np.log(housing[\"Avg. Area Number of Rooms\"])\n",
    "housing[\"Avg. Area Number of Rooms\"].describe()\n",
    "             # Descriptive statistics after applying log scale to correct the right skewedness"
   ]
  },
  {
   "cell_type": "code",
   "execution_count": 67,
   "id": "c2403e89",
   "metadata": {},
   "outputs": [
    {
     "data": {
      "image/png": "[encoded data removed]",
      "text/plain": [
       "<Figure size 864x504 with 1 Axes>"
      ]
     },
     "metadata": {
      "needs_background": "light"
     },
     "output_type": "display_data"
    }
   ],
   "source": [
    "get_boxplot(x = \"Avg. Area Number of Rooms\")\n",
    "plt.title(\"Boxplot of the Avg. Area Number of Rooms\")\n",
    "plt.xlabel(\"Avg. Area Number of Rooms\")\n",
    "plt.ylabel(\"Frequency\");  # Boxplotting after the right skewed correction using the defined function"
   ]
  },
  {
   "cell_type": "markdown",
   "id": "6865f63c",
   "metadata": {},
   "source": [
    "**The new boxplot of the log-scaled average area number of rooms shows that**\n",
    "\n",
    "- The outliers (skewedness) in the right hand has been corrected except few. The few left shows very high average area number of rooms above the upper whisker.\n",
    "- The distribution is skewed to the left hand as some average area number of rooms are too low"
   ]
  },
  {
   "cell_type": "code",
   "execution_count": 77,
   "id": "3260ae4f",
   "metadata": {},
   "outputs": [
    {
     "data": {
      "text/plain": [
       "count    5000.000000\n",
       "mean        3.981330\n",
       "std         1.234137\n",
       "min         2.000000\n",
       "25%         3.140000\n",
       "50%         4.050000\n",
       "75%         4.490000\n",
       "max         6.500000\n",
       "Name: Avg. Area Number of Bedrooms, dtype: float64"
      ]
     },
     "execution_count": 77,
     "metadata": {},
     "output_type": "execute_result"
    }
   ],
   "source": [
    "housing[\"Avg. Area Number of Bedrooms\"].describe() # To check descriptive statistics of the variable"
   ]
  },
  {
   "cell_type": "code",
   "execution_count": 76,
   "id": "c2d4126a",
   "metadata": {},
   "outputs": [
    {
     "data": {
      "image/png": "[encoded data removed]",
      "text/plain": [
       "<Figure size 864x504 with 1 Axes>"
      ]
     },
     "metadata": {
      "needs_background": "light"
     },
     "output_type": "display_data"
    }
   ],
   "source": [
    "get_boxplot(x = \"Avg. Area Number of Bedrooms\")\n",
    "plt.title(\"Boxplot of the Avg. Area Number of Bedrooms\")\n",
    "plt.xlabel(\"Avg. Area Number of Bedrooms\")\n",
    "plt.ylabel(\"Frequency\");\n",
    "\n",
    "                # Boxplot of the \"Average Area Number of Bedrooms\" variable using the defined function"
   ]
  },
  {
   "cell_type": "markdown",
   "id": "d9c64b70",
   "metadata": {},
   "source": [
    "**Observation**\n",
    "- The average mean and the median are the same. This is a perfect normal distribution\n",
    "- There is no outlier\n",
    "- The maximum average area number of bedrooms is 6.5 and the least is 2.\n"
   ]
  },
  {
   "cell_type": "code",
   "execution_count": 43,
   "id": "5016c857",
   "metadata": {},
   "outputs": [
    {
     "data": {
      "text/plain": [
       "count     5000.000000\n",
       "mean     36163.516039\n",
       "std       9925.650114\n",
       "min        172.610686\n",
       "25%      29403.928702\n",
       "50%      36199.406689\n",
       "75%      42861.290769\n",
       "max      69621.713378\n",
       "Name: Area Population, dtype: float64"
      ]
     },
     "execution_count": 43,
     "metadata": {},
     "output_type": "execute_result"
    }
   ],
   "source": [
    "housing[\"Area Population\"].describe()    # To check descriptive statistics of the variable"
   ]
  },
  {
   "cell_type": "code",
   "execution_count": 68,
   "id": "41d9adbb",
   "metadata": {},
   "outputs": [
    {
     "data": {
      "image/png": "[encoded data removed]",
      "text/plain": [
       "<Figure size 864x504 with 1 Axes>"
      ]
     },
     "metadata": {
      "needs_background": "light"
     },
     "output_type": "display_data"
    }
   ],
   "source": [
    "get_boxplot(x = \"Area Population\")\n",
    "plt.title(\"Boxplot of the Area Population\")\n",
    "plt.xlabel(\"Area Population\")\n",
    "plt.ylabel(\"Frequency\");    \n",
    "\n",
    "                         # Boxplot of the \"Area Population\" variable using the defined function  "
   ]
  },
  {
   "cell_type": "markdown",
   "id": "e829b471",
   "metadata": {},
   "source": [
    "**Observation**\n",
    "- The distribution is skewed to both right and left hands This means a few of the area population are too high and some are too low\n",
    "- The maximum area population is 69621 while the minimum is 173.\n",
    "- The average mean and the median are close, hence the distribution is normal."
   ]
  },
  {
   "cell_type": "code",
   "execution_count": 69,
   "id": "11af3cf3",
   "metadata": {},
   "outputs": [
    {
     "data": {
      "text/plain": [
       "count    5000.000000\n",
       "mean       10.452269\n",
       "std         0.316042\n",
       "min         5.151039\n",
       "25%        10.288884\n",
       "50%        10.496798\n",
       "75%        10.665724\n",
       "max        11.150832\n",
       "Name: Area Population, dtype: float64"
      ]
     },
     "execution_count": 69,
     "metadata": {},
     "output_type": "execute_result"
    }
   ],
   "source": [
    "housing[\"Area Population\"] = np.log(housing[\"Area Population\"])\n",
    "housing[\"Area Population\"].describe()\n",
    "        \n",
    "                 # Descriptive statistics after applying log scale to correct the right skewedness"
   ]
  },
  {
   "cell_type": "code",
   "execution_count": 70,
   "id": "da9ef75f",
   "metadata": {},
   "outputs": [
    {
     "data": {
      "image/png": "[encoded data removed]",
      "text/plain": [
       "<Figure size 864x504 with 1 Axes>"
      ]
     },
     "metadata": {
      "needs_background": "light"
     },
     "output_type": "display_data"
    }
   ],
   "source": [
    "get_boxplot(x = \"Area Population\")\n",
    "plt.title(\"Boxplot of the Area Population\")\n",
    "plt.xlabel(\"Area Population\")\n",
    "plt.ylabel(\"Frequency\");   # Boxplotting after the right skewed correction using the defined function"
   ]
  },
  {
   "cell_type": "markdown",
   "id": "6168263c",
   "metadata": {},
   "source": [
    "**The new boxplot of the log-scaled area population shows that**\n",
    "\n",
    "- The outliers (skewedness) in the right hand has been corrected\n",
    "- The distribution is skewed to the left hand."
   ]
  },
  {
   "cell_type": "code",
   "execution_count": 71,
   "id": "b2cbaf32",
   "metadata": {},
   "outputs": [
    {
     "data": {
      "text/plain": [
       "count    5.000000e+03\n",
       "mean     1.232073e+06\n",
       "std      3.531176e+05\n",
       "min      1.593866e+04\n",
       "25%      9.975771e+05\n",
       "50%      1.232669e+06\n",
       "75%      1.471210e+06\n",
       "max      2.469066e+06\n",
       "Name: Price, dtype: float64"
      ]
     },
     "execution_count": 71,
     "metadata": {},
     "output_type": "execute_result"
    }
   ],
   "source": [
    "housing[\"Price\"].describe()    # To check descriptive statistics of the variable"
   ]
  },
  {
   "cell_type": "code",
   "execution_count": 72,
   "id": "e8db278a",
   "metadata": {},
   "outputs": [
    {
     "data": {
      "image/png": "[encoded data removed]",
      "text/plain": [
       "<Figure size 864x504 with 1 Axes>"
      ]
     },
     "metadata": {
      "needs_background": "light"
     },
     "output_type": "display_data"
    }
   ],
   "source": [
    "get_boxplot(x = \"Price\")\n",
    "plt.title(\"Boxplot of the Price\")\n",
    "plt.xlabel(\"Price\")\n",
    "plt.ylabel(\"Frequency\");   # Boxplot of the \"Price\" variable using the defined function"
   ]
  },
  {
   "cell_type": "markdown",
   "id": "2366440e",
   "metadata": {},
   "source": [
    "**Observation**\n",
    "- The distribution is skewed to both right and left hands. Majority has price above 2.2, hence the upper outliers. A few also have price below 0.3, hence the lower outliers.\n",
    "- The maximum price is 2.5M while the least is 1.6M\n",
    "- The average mean and the median are 1.23M, hence this is a perfect normal distribution."
   ]
  },
  {
   "cell_type": "code",
   "execution_count": 74,
   "id": "fcbccb4f",
   "metadata": {},
   "outputs": [
    {
     "data": {
      "text/plain": [
       "count    5000.000000\n",
       "mean        2.636999\n",
       "std         0.024701\n",
       "min         2.269701\n",
       "25%         2.625616\n",
       "50%         2.640820\n",
       "75%         2.653354\n",
       "max         2.689163\n",
       "Name: Price, dtype: float64"
      ]
     },
     "execution_count": 74,
     "metadata": {},
     "output_type": "execute_result"
    }
   ],
   "source": [
    "housing[\"Price\"] = np.log(housing[\"Price\"])\n",
    "housing[\"Price\"].describe()\n",
    "         # Descriptive statistics after applying log scale to correct the right skewedness"
   ]
  },
  {
   "cell_type": "code",
   "execution_count": 75,
   "id": "aa41ab56",
   "metadata": {},
   "outputs": [
    {
     "data": {
      "image/png": "[encoded data removed]",
      "text/plain": [
       "<Figure size 864x504 with 1 Axes>"
      ]
     },
     "metadata": {
      "needs_background": "light"
     },
     "output_type": "display_data"
    }
   ],
   "source": [
    "get_boxplot(x = \"Price\")\n",
    "plt.title(\"Boxplot of the Price\")\n",
    "plt.xlabel(\"Price\")\n",
    "plt.ylabel(\"Frequency\");   # Boxplotting after the right skewed correction using the defined function"
   ]
  },
  {
   "cell_type": "markdown",
   "id": "d0100937",
   "metadata": {},
   "source": [
    "\n",
    "**Observation**\n",
    "\n",
    "- The outliers (skewedness) in the right hand has been corrected. \n",
    "- The average mean and the median are the same an the distribution is perfectly normal\n",
    "- The highest price is 2.7 and the least 2.3\n",
    "- The 75% percentile of the price which means 75% of the log-scaled price is 2.7 or less\n",
    "- The 25% percentile of the price which means 25% of the price after applying log scale is 2.6 or less\n",
    "- The distribution is skewed to the left hand. Majority has price less than 2.6.\n",
    "\n",
    "\n",
    "#              Correlation plot"
   ]
  },
  {
   "cell_type": "code",
   "execution_count": 49,
   "id": "2509c2ee",
   "metadata": {},
   "outputs": [
    {
     "data": {
      "text/html": [
       "<div>\n",
       "<style scoped>\n",
       "    .dataframe tbody tr th:only-of-type {\n",
       "        vertical-align: middle;\n",
       "    }\n",
       "\n",
       "    .dataframe tbody tr th {\n",
       "        vertical-align: top;\n",
       "    }\n",
       "\n",
       "    .dataframe thead th {\n",
       "        text-align: right;\n",
       "    }\n",
       "</style>\n",
       "<table border=\"1\" class=\"dataframe\">\n",
       "  <thead>\n",
       "    <tr style=\"text-align: right;\">\n",
       "      <th></th>\n",
       "      <th>Avg. Area Income</th>\n",
       "      <th>Avg. Area House Age</th>\n",
       "      <th>Avg. Area Number of Rooms</th>\n",
       "      <th>Avg. Area Number of Bedrooms</th>\n",
       "      <th>Area Population</th>\n",
       "      <th>Price</th>\n",
       "    </tr>\n",
       "  </thead>\n",
       "  <tbody>\n",
       "    <tr>\n",
       "      <th>Avg. Area Income</th>\n",
       "      <td>1.000000</td>\n",
       "      <td>-0.002007</td>\n",
       "      <td>-0.011032</td>\n",
       "      <td>0.019788</td>\n",
       "      <td>-0.016234</td>\n",
       "      <td>0.639734</td>\n",
       "    </tr>\n",
       "    <tr>\n",
       "      <th>Avg. Area House Age</th>\n",
       "      <td>-0.002007</td>\n",
       "      <td>1.000000</td>\n",
       "      <td>-0.009428</td>\n",
       "      <td>0.006149</td>\n",
       "      <td>-0.018743</td>\n",
       "      <td>0.452543</td>\n",
       "    </tr>\n",
       "    <tr>\n",
       "      <th>Avg. Area Number of Rooms</th>\n",
       "      <td>-0.011032</td>\n",
       "      <td>-0.009428</td>\n",
       "      <td>1.000000</td>\n",
       "      <td>0.462695</td>\n",
       "      <td>0.002040</td>\n",
       "      <td>0.335664</td>\n",
       "    </tr>\n",
       "    <tr>\n",
       "      <th>Avg. Area Number of Bedrooms</th>\n",
       "      <td>0.019788</td>\n",
       "      <td>0.006149</td>\n",
       "      <td>0.462695</td>\n",
       "      <td>1.000000</td>\n",
       "      <td>-0.022168</td>\n",
       "      <td>0.171071</td>\n",
       "    </tr>\n",
       "    <tr>\n",
       "      <th>Area Population</th>\n",
       "      <td>-0.016234</td>\n",
       "      <td>-0.018743</td>\n",
       "      <td>0.002040</td>\n",
       "      <td>-0.022168</td>\n",
       "      <td>1.000000</td>\n",
       "      <td>0.408556</td>\n",
       "    </tr>\n",
       "    <tr>\n",
       "      <th>Price</th>\n",
       "      <td>0.639734</td>\n",
       "      <td>0.452543</td>\n",
       "      <td>0.335664</td>\n",
       "      <td>0.171071</td>\n",
       "      <td>0.408556</td>\n",
       "      <td>1.000000</td>\n",
       "    </tr>\n",
       "  </tbody>\n",
       "</table>\n",
       "</div>"
      ],
      "text/plain": [
       "                              Avg. Area Income  Avg. Area House Age  \\\n",
       "Avg. Area Income                      1.000000            -0.002007   \n",
       "Avg. Area House Age                  -0.002007             1.000000   \n",
       "Avg. Area Number of Rooms            -0.011032            -0.009428   \n",
       "Avg. Area Number of Bedrooms          0.019788             0.006149   \n",
       "Area Population                      -0.016234            -0.018743   \n",
       "Price                                 0.639734             0.452543   \n",
       "\n",
       "                              Avg. Area Number of Rooms  \\\n",
       "Avg. Area Income                              -0.011032   \n",
       "Avg. Area House Age                           -0.009428   \n",
       "Avg. Area Number of Rooms                      1.000000   \n",
       "Avg. Area Number of Bedrooms                   0.462695   \n",
       "Area Population                                0.002040   \n",
       "Price                                          0.335664   \n",
       "\n",
       "                              Avg. Area Number of Bedrooms  Area Population  \\\n",
       "Avg. Area Income                                  0.019788        -0.016234   \n",
       "Avg. Area House Age                               0.006149        -0.018743   \n",
       "Avg. Area Number of Rooms                         0.462695         0.002040   \n",
       "Avg. Area Number of Bedrooms                      1.000000        -0.022168   \n",
       "Area Population                                  -0.022168         1.000000   \n",
       "Price                                             0.171071         0.408556   \n",
       "\n",
       "                                 Price  \n",
       "Avg. Area Income              0.639734  \n",
       "Avg. Area House Age           0.452543  \n",
       "Avg. Area Number of Rooms     0.335664  \n",
       "Avg. Area Number of Bedrooms  0.171071  \n",
       "Area Population               0.408556  \n",
       "Price                         1.000000  "
      ]
     },
     "execution_count": 49,
     "metadata": {},
     "output_type": "execute_result"
    }
   ],
   "source": [
    "housing = housing.corr()\n",
    "housing                         \n",
    "        # Calling our data, apply correlation method and save it in a new variable; housing\n"
   ]
  },
  {
   "cell_type": "code",
   "execution_count": 43,
   "id": "ed1b8adf",
   "metadata": {},
   "outputs": [
    {
     "data": {
      "image/png": "[encoded data removed]",
      "text/plain": [
       "<Figure size 864x504 with 2 Axes>"
      ]
     },
     "metadata": {
      "needs_background": "light"
     },
     "output_type": "display_data"
    }
   ],
   "source": [
    "plt.figure(figsize=(12,7))\n",
    "sns.heatmap(data =housing, annot= True, vmin= -1, vmax=1, cmap= \"Spectral\");\n",
    "plt.title(\"Correlation Plot\")\n",
    "plt.show();    # Heatmap to show relationships among the variables             "
   ]
  },
  {
   "cell_type": "markdown",
   "id": "ee6783c5",
   "metadata": {},
   "source": [
    "# Points noted from the correlation plot\n",
    "- The price and the average area income have the highest positive correlation of 0.61(twice).\n",
    "- The averae area house age and the price have positive correlation of 0.43(twice). \n",
    "- The area population and the price have correlation at 0.37(twice)\n",
    "- The average area number of rooms have correlation with the price at 0.32 (twice). \n",
    "- The average area number of the bedrooms has positive correlation at 0.16 (twice) with the price.\n",
    "\n",
    "# Conclusion\n",
    " - All variables will be adopted as there are no highly positive or negative variables in the dataset.\n",
    " \n",
    "\n",
    "\n",
    "# Bivariate Plots"
   ]
  },
  {
   "cell_type": "code",
   "execution_count": 101,
   "id": "3e36d986",
   "metadata": {},
   "outputs": [
    {
     "data": {
      "image/png": "[encoded data removed]",
      "text/plain": [
       "<Figure size 432x288 with 1 Axes>"
      ]
     },
     "metadata": {
      "needs_background": "light"
     },
     "output_type": "display_data"
    }
   ],
   "source": [
    "sns.scatterplot(data= housing, x =\"Price\", y = \"Avg. Area Income\");\n",
    "plt.title(\"Scatter Plot of 2 Numerical Variables\")\n",
    "plt.xlabel(\"Price\")\n",
    "plt.ylabel(\"Avg. Area Income\")\n",
    "plt.show();"
   ]
  },
  {
   "cell_type": "markdown",
   "id": "3af08129",
   "metadata": {},
   "source": [
    "**Observation**\n",
    "- The highest average area income (10) has the price of 6\n",
    "- The highest price (10) has the average area income of 6\n",
    "- Prices below 6 have the average area income of zero"
   ]
  },
  {
   "cell_type": "code",
   "execution_count": 100,
   "id": "6546439a",
   "metadata": {},
   "outputs": [
    {
     "data": {
      "image/png": "[encoded data removed]",
      "text/plain": [
       "<Figure size 432x288 with 1 Axes>"
      ]
     },
     "metadata": {
      "needs_background": "light"
     },
     "output_type": "display_data"
    }
   ],
   "source": [
    "sns.scatterplot(data= housing, x =\"Price\", y = \"Avg. Area House Age\");\n",
    "plt.title(\"Scatter Plot of 2 Numerical Variables\")\n",
    "plt.xlabel(\"Price\")\n",
    "plt.ylabel(\"Avg. Area House Age\")\n",
    "plt.show();"
   ]
  },
  {
   "cell_type": "markdown",
   "id": "9712474c",
   "metadata": {},
   "source": [
    "**Observation**\n",
    "- The highest average area house age of 10 has a price of 4.\n",
    "- The highest price of 10 has the average area house age of 4\n",
    "- The prices below 4 and at exactly 6 have the average area house age of zero"
   ]
  },
  {
   "cell_type": "code",
   "execution_count": 99,
   "id": "90db59a6",
   "metadata": {},
   "outputs": [
    {
     "data": {
      "image/png": "[encoded data removed]",
      "text/plain": [
       "<Figure size 432x288 with 1 Axes>"
      ]
     },
     "metadata": {
      "needs_background": "light"
     },
     "output_type": "display_data"
    }
   ],
   "source": [
    "sns.scatterplot(data= housing, x =\"Price\", y = \"Avg. Area Number of Rooms\");\n",
    "plt.title(\"Scatter Plot of 2 Numerical Variables\")\n",
    "plt.xlabel(\"Price\")\n",
    "plt.ylabel(\"Avg. Area Number of Rooms\")\n",
    "plt.show();"
   ]
  },
  {
   "cell_type": "markdown",
   "id": "fa184053",
   "metadata": {},
   "source": [
    "**Observation**\n",
    "- The highest average area number of rooms is 10\n",
    "- The highest price is 10\n",
    "- The least two prices have the highest average number of rooms\n"
   ]
  },
  {
   "cell_type": "code",
   "execution_count": 98,
   "id": "763cd6f1",
   "metadata": {},
   "outputs": [
    {
     "data": {
      "image/png": "[encoded data removed]",
      "text/plain": [
       "<Figure size 432x288 with 1 Axes>"
      ]
     },
     "metadata": {
      "needs_background": "light"
     },
     "output_type": "display_data"
    }
   ],
   "source": [
    "sns.scatterplot(data= housing, x =\"Price\", y = \"Avg. Area Number of Bedrooms\");\n",
    "plt.title(\"Scatter Plot of 2 Numerical Variables\")\n",
    "plt.xlabel(\"Price\")\n",
    "plt.ylabel(\"Avg. Area Number of Bedrooms\")\n",
    "plt.show();"
   ]
  },
  {
   "cell_type": "markdown",
   "id": "58d12bc7",
   "metadata": {},
   "source": [
    "**Observation**\n",
    "- The highest average area number of bedrooms is 10\n",
    "- The highest price is 10\n",
    "- The least two prices have the highest average number of bedrooms\n",
    "- Prices between 3 and 6 have zero average area number of bedrooms"
   ]
  },
  {
   "cell_type": "code",
   "execution_count": 97,
   "id": "b882d148",
   "metadata": {},
   "outputs": [
    {
     "data": {
      "image/png": "[encoded data removed]",
      "text/plain": [
       "<Figure size 432x288 with 1 Axes>"
      ]
     },
     "metadata": {
      "needs_background": "light"
     },
     "output_type": "display_data"
    }
   ],
   "source": [
    "sns.scatterplot(data= housing, x =\"Price\", y = \"Area Population\");\n",
    "plt.title(\"Scatter Plot of 2 Numerical Variables\")\n",
    "plt.xlabel(\"Price\")\n",
    "plt.ylabel(\"Area Population\")\n",
    "plt.show();"
   ]
  },
  {
   "cell_type": "markdown",
   "id": "e31d3059",
   "metadata": {},
   "source": [
    "**Observation**\n",
    "- The highest area population is 10 and the highest price is 10\n",
    "- The highest area population has a price of 4\n",
    "- The price of 10 has an area population of 4.\n",
    "- The average population of 4 and the price of 10 are interdependent and vice-versa.\n",
    "- Other prices have zero area population"
   ]
  },
  {
   "cell_type": "markdown",
   "id": "48741674",
   "metadata": {},
   "source": [
    "# To build linear regression...."
   ]
  },
  {
   "cell_type": "code",
   "execution_count": 55,
   "id": "e8fe3043",
   "metadata": {},
   "outputs": [
    {
     "data": {
      "text/plain": [
       "(5000, 6)"
      ]
     },
     "execution_count": 55,
     "metadata": {},
     "output_type": "execute_result"
    }
   ],
   "source": [
    "housing.shape      # To check the dimension of the data\n"
   ]
  },
  {
   "cell_type": "code",
   "execution_count": 58,
   "id": "b5c242be",
   "metadata": {},
   "outputs": [],
   "source": [
    " # Dropping the dependent variable \"Price\" & assign new variable \"X\" to the dataset\n",
    "X = housing.drop(\"Price\", axis =1)\n",
    "         "
   ]
  },
  {
   "cell_type": "code",
   "execution_count": 59,
   "id": "e3058c1a",
   "metadata": {},
   "outputs": [],
   "source": [
    "y = housing[\"Price\"]   # Assigning new variable to the dependent variable \"Price\""
   ]
  },
  {
   "cell_type": "code",
   "execution_count": 64,
   "id": "0b4851b1",
   "metadata": {},
   "outputs": [],
   "source": [
    "# To import a function to split our data\n",
    "from sklearn.model_selection import train_test_split   \n",
    "\n",
    "# To split data into 80% for training and 20% for testing\n",
    "\n",
    "x_train, x_test, y_train, y_test = train_test_split(X, y, test_size=0.2, random_state=1)\n",
    " "
   ]
  },
  {
   "cell_type": "code",
   "execution_count": 63,
   "id": "0674f1b1",
   "metadata": {},
   "outputs": [
    {
     "data": {
      "text/plain": [
       "(4000, 5)"
      ]
     },
     "execution_count": 63,
     "metadata": {},
     "output_type": "execute_result"
    }
   ],
   "source": [
    "x_train.shape     # To check the dimension of the train data\n"
   ]
  },
  {
   "cell_type": "code",
   "execution_count": 61,
   "id": "bb6ca999",
   "metadata": {},
   "outputs": [
    {
     "data": {
      "text/plain": [
       "(1000, 5)"
      ]
     },
     "execution_count": 61,
     "metadata": {},
     "output_type": "execute_result"
    }
   ],
   "source": [
    "x_test.shape            # To check the dimension of the test data\n"
   ]
  },
  {
   "cell_type": "markdown",
   "id": "4cfa2b68",
   "metadata": {},
   "source": [
    "#     To standardise the data...."
   ]
  },
  {
   "cell_type": "code",
   "execution_count": 182,
   "id": "a22335a8",
   "metadata": {},
   "outputs": [],
   "source": [
    "from sklearn.preprocessing import StandardScaler \n",
    " # To import a function scale our varibales btw a mean and variance of 0 and 1\n",
    "\n",
    "scaler = StandardScaler()  # To create an instance of the StandardScaler\n",
    "\n",
    "x_train_scaler =scaler.fit_transform(x_train)\n",
    "\n",
    " # To use the scaler to calculate the mean and varaince of each variable and convert each varaible \n",
    "    # to have a mean and varaince of 0 and 1\n",
    "\n",
    "x_test_scaler = scaler.transform(x_test)\n",
    "\n",
    " # To use the scaler to convert each variable to have a mean and standard deviation of 0 and 1"
   ]
  },
  {
   "cell_type": "code",
   "execution_count": 158,
   "id": "cf363f9c",
   "metadata": {},
   "outputs": [
    {
     "data": {
      "text/plain": [
       "LinearRegression()"
      ]
     },
     "execution_count": 158,
     "metadata": {},
     "output_type": "execute_result"
    }
   ],
   "source": [
    "from sklearn.linear_model import LinearRegression   # To build Linear regression model\n",
    "\n",
    "lr = LinearRegression()\n",
    "\n",
    "lr.fit(x_train_scaler, y_train)"
   ]
  },
  {
   "cell_type": "code",
   "execution_count": 177,
   "id": "3e39b20d",
   "metadata": {},
   "outputs": [
    {
     "data": {
      "text/plain": [
       "array([1947950.30981597, 1127879.44571508,  908707.45159353,\n",
       "          6941.36104221, 1005018.90342024])"
      ]
     },
     "execution_count": 177,
     "metadata": {},
     "output_type": "execute_result"
    }
   ],
   "source": [
    "lr.coef_                          # To know the values of the coefficients"
   ]
  },
  {
   "cell_type": "code",
   "execution_count": 160,
   "id": "f277fc32",
   "metadata": {},
   "outputs": [
    {
     "name": "stdout",
     "output_type": "stream",
     "text": [
      "Avg. Area Income has coefficient of 1947950.309815968\n",
      "Avg. Area House Age has coefficient of 1127879.445715077\n",
      "Avg. Area Number of Rooms has coefficient of 908707.4515935319\n",
      "Avg. Area Number of Bedrooms has coefficient of 6941.361042213575\n",
      "Area Population has coefficient of 1005018.903420244\n"
     ]
    }
   ],
   "source": [
    "for idx, col_name in enumerate(X.columns):           \n",
    "    print(f\"{col_name} has coefficient of {lr.coef_[idx]}\")\n",
    "     # To loop through the coefficients in order to know the coefficent of each independent variable"
   ]
  },
  {
   "cell_type": "markdown",
   "id": "d434e7c5",
   "metadata": {},
   "source": [
    "# Interpretation\n",
    "- Any unit increase in the \"area population\" will lead to 1.0*10^6 positive increase in the dependent \n",
    "variable \"Price\".\n",
    "- Any unit increase in the independent variable \"Average area Number of Bedrooms\" will lead to \n",
    "positive increase of 6.9*10^3 in the \"Price\" variable.\n",
    "- A unit increase in the \"Average area Number of Rooms\" variable will cause a positive increase of\n",
    "9.1*10^5 in the dependent variable \"Price\".\n",
    "- A unit increase in the \"Average Area House Age\" will lead to positive increase of 1.1*10^6 in \n",
    "the \"Price\" variable.\n",
    "- A positive increase of approximately 2.0*10^6 occurs in the dependent variable \"Price\" for every \n",
    "unit increase in the \"Average Area Income\" variable.\n"
   ]
  },
  {
   "cell_type": "code",
   "execution_count": 161,
   "id": "37cff9d7",
   "metadata": {},
   "outputs": [],
   "source": [
    "# To check model performance\n",
    "from sklearn.metrics import r2_score, mean_absolute_error, mean_squared_error"
   ]
  },
  {
   "cell_type": "code",
   "execution_count": 163,
   "id": "8399791d",
   "metadata": {},
   "outputs": [],
   "source": [
    "# function to compute adjusted R-squared\n",
    "def adj_r2_score(predictors, targets, predictions):\n",
    "    r2 = r2_score(targets, predictions)\n",
    "    n = predictors.shape[0]\n",
    "    k = predictors.shape[1]\n",
    "    return 1 - ((1 - r2) * (n - 1) / (n - k - 1))\n",
    "\n",
    "\n",
    "# function to compute different metrics to check performance of a regression model\n",
    "def model_performance_regression(model, predictors, target):\n",
    "    \"\"\"\n",
    "    Function to compute different metrics to check regression model performance\n",
    "\n",
    "    model: regressor\n",
    "    predictors: independent variables\n",
    "    target: dependent variable\n",
    "    \"\"\"\n",
    "\n",
    "    # predicting using the independent variables\n",
    "    pred = model.predict(predictors)\n",
    "\n",
    "    r2 = r2_score(target, pred)  # to compute R-squared\n",
    "    adjr2 = adj_r2_score(predictors, target, pred)  # to compute adjusted R-squared\n",
    "    rmse = np.sqrt(mean_squared_error(target, pred))  # to compute RMSE\n",
    "    mae = mean_absolute_error(target, pred)  # to compute MAE\n",
    "\n",
    "    # creating a dataframe of metrics\n",
    "    df_perf = pd.DataFrame(\n",
    "        {\n",
    "            \"RMSE\": rmse,\n",
    "            \"MAE\": mae,\n",
    "            \"R-squared\": r2,\n",
    "            \"Adj. R-squared\": adjr2,\n",
    "        },\n",
    "        index=[0],\n",
    "    )\n",
    "\n",
    "    return df_perf"
   ]
  },
  {
   "cell_type": "code",
   "execution_count": 165,
   "id": "45fc9ace",
   "metadata": {},
   "outputs": [
    {
     "data": {
      "text/html": [
       "<div>\n",
       "<style scoped>\n",
       "    .dataframe tbody tr th:only-of-type {\n",
       "        vertical-align: middle;\n",
       "    }\n",
       "\n",
       "    .dataframe tbody tr th {\n",
       "        vertical-align: top;\n",
       "    }\n",
       "\n",
       "    .dataframe thead th {\n",
       "        text-align: right;\n",
       "    }\n",
       "</style>\n",
       "<table border=\"1\" class=\"dataframe\">\n",
       "  <thead>\n",
       "    <tr style=\"text-align: right;\">\n",
       "      <th></th>\n",
       "      <th>RMSE</th>\n",
       "      <th>MAE</th>\n",
       "      <th>R-squared</th>\n",
       "      <th>Adj. R-squared</th>\n",
       "    </tr>\n",
       "  </thead>\n",
       "  <tbody>\n",
       "    <tr>\n",
       "      <th>0</th>\n",
       "      <td>100706.716014</td>\n",
       "      <td>81076.253952</td>\n",
       "      <td>0.917008</td>\n",
       "      <td>0.916904</td>\n",
       "    </tr>\n",
       "  </tbody>\n",
       "</table>\n",
       "</div>"
      ],
      "text/plain": [
       "            RMSE           MAE  R-squared  Adj. R-squared\n",
       "0  100706.716014  81076.253952   0.917008        0.916904"
      ]
     },
     "execution_count": 165,
     "metadata": {},
     "output_type": "execute_result"
    }
   ],
   "source": [
    "model_performance_regression(lr, x_train_scaler, y_train) # To know the performance of the train data"
   ]
  },
  {
   "cell_type": "markdown",
   "id": "62ad6e56",
   "metadata": {},
   "source": [
    "# The training data has\n",
    "- The root mean squared error of 100707\n",
    "- The mean absolute error of 81076\n",
    "- The R-squared of 0.917008\n",
    "- The adjusted R-squared of 0.916908.\n",
    "\n",
    "# Interpretation\n",
    "- The R-squared of 92% means that 92% variation of the dependent variable \"Price\" is explained by the \n",
    "independent variables."
   ]
  },
  {
   "cell_type": "code",
   "execution_count": 61,
   "id": "34cadd3b",
   "metadata": {},
   "outputs": [
    {
     "data": {
      "text/plain": [
       "0.9170083707375688"
      ]
     },
     "execution_count": 61,
     "metadata": {},
     "output_type": "execute_result"
    }
   ],
   "source": [
    "lr.score(x_train_scaler, y_train)  # To check the percentage of the accuracy"
   ]
  },
  {
   "cell_type": "markdown",
   "id": "9e3037d0",
   "metadata": {},
   "source": [
    "**Observation**\n",
    "- The training data has an accuracy of 91.7%"
   ]
  },
  {
   "cell_type": "code",
   "execution_count": 166,
   "id": "97488644",
   "metadata": {},
   "outputs": [
    {
     "data": {
      "text/html": [
       "<div>\n",
       "<style scoped>\n",
       "    .dataframe tbody tr th:only-of-type {\n",
       "        vertical-align: middle;\n",
       "    }\n",
       "\n",
       "    .dataframe tbody tr th {\n",
       "        vertical-align: top;\n",
       "    }\n",
       "\n",
       "    .dataframe thead th {\n",
       "        text-align: right;\n",
       "    }\n",
       "</style>\n",
       "<table border=\"1\" class=\"dataframe\">\n",
       "  <thead>\n",
       "    <tr style=\"text-align: right;\">\n",
       "      <th></th>\n",
       "      <th>RMSE</th>\n",
       "      <th>MAE</th>\n",
       "      <th>R-squared</th>\n",
       "      <th>Adj. R-squared</th>\n",
       "    </tr>\n",
       "  </thead>\n",
       "  <tbody>\n",
       "    <tr>\n",
       "      <th>0</th>\n",
       "      <td>102682.020401</td>\n",
       "      <td>82494.737701</td>\n",
       "      <td>0.921594</td>\n",
       "      <td>0.921199</td>\n",
       "    </tr>\n",
       "  </tbody>\n",
       "</table>\n",
       "</div>"
      ],
      "text/plain": [
       "            RMSE           MAE  R-squared  Adj. R-squared\n",
       "0  102682.020401  82494.737701   0.921594        0.921199"
      ]
     },
     "execution_count": 166,
     "metadata": {},
     "output_type": "execute_result"
    }
   ],
   "source": [
    "model_performance_regression(lr, x_test_scaler, y_test) # To know the performance of the test data"
   ]
  },
  {
   "cell_type": "markdown",
   "id": "bc7010b9",
   "metadata": {},
   "source": [
    "# The testing data has\n",
    "- The root mean squared error of 102682\n",
    "- The mean absolute error of 82495\n",
    "- The R-squared of 0.921594\n",
    "- The adjusted R-squared of 0.921199\n",
    "# Interpretation\n",
    "- The R-squared of 92% means that 92% variation of the dependent variable \"Price\" is explained by \n",
    "the independent variables in this linear regression model.\n",
    "# Conclusion\n",
    "- This linear regression model generalizes well both on the testing and the training data."
   ]
  },
  {
   "cell_type": "code",
   "execution_count": null,
   "id": "988cea19",
   "metadata": {},
   "outputs": [],
   "source": []
  }
 ],
 "metadata": {
  "kernelspec": {
   "display_name": "Python 3 (ipykernel)",
   "language": "python",
   "name": "python3"
  },
  "language_info": {
   "codemirror_mode": {
    "name": "ipython",
    "version": 3
   },
   "file_extension": ".py",
   "mimetype": "text/x-python",
   "name": "python",
   "nbconvert_exporter": "python",
   "pygments_lexer": "ipython3",
   "version": "3.9.12"
  }
 },
 "nbformat": 4,
 "nbformat_minor": 5
}
